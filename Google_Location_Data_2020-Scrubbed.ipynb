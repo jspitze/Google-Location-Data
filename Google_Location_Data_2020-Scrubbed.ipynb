{
 "cells": [
  {
   "cell_type": "code",
   "execution_count": 1,
   "metadata": {},
   "outputs": [],
   "source": [
    "## Cells with personal data as part of a string or input values have either been scrubbed and replaced with \"ADDRESS\" \n",
    "## or deleted"
   ]
  },
  {
   "cell_type": "code",
   "execution_count": 5,
   "metadata": {},
   "outputs": [],
   "source": [
    "import json\n",
    "import pandas as pd\n",
    "from collections import Counter\n",
    "from datetime import date, time, datetime\n",
    "from matplotlib import pyplot as plt"
   ]
  },
  {
   "cell_type": "code",
   "execution_count": 6,
   "metadata": {},
   "outputs": [],
   "source": [
    "day = date.today().strftime(\"%B %Y\")\n",
    "# months = ['JANUARY', 'FEBRUARY', 'MARCH', 'APRIL', 'MAY', 'JUNE', 'JULY', 'AUGUST',\n",
    "#             'SEPTEMBER', 'OCTOBER', 'NOVEMBER', 'DECEMBER']\n",
    "home_count=[]\n",
    "work_count1=[]\n",
    "work_count2=[]\n",
    "full_year=[]"
   ]
  },
  {
   "cell_type": "code",
   "execution_count": 7,
   "metadata": {},
   "outputs": [
    {
     "ename": "NameError",
     "evalue": "name 'months' is not defined",
     "output_type": "error",
     "traceback": [
      "\u001b[1;31m---------------------------------------------------------------------------\u001b[0m",
      "\u001b[1;31mNameError\u001b[0m                                 Traceback (most recent call last)",
      "\u001b[1;32m<ipython-input-7-b2135f58eb06>\u001b[0m in \u001b[0;36m<module>\u001b[1;34m\u001b[0m\n\u001b[0;32m      1\u001b[0m \u001b[0mfull_year\u001b[0m\u001b[1;33m=\u001b[0m\u001b[1;33m[\u001b[0m\u001b[1;33m]\u001b[0m\u001b[1;33m\u001b[0m\u001b[1;33m\u001b[0m\u001b[0m\n\u001b[1;32m----> 2\u001b[1;33m \u001b[1;32mfor\u001b[0m \u001b[0mmonth\u001b[0m \u001b[1;32min\u001b[0m \u001b[0mmonths\u001b[0m\u001b[1;33m:\u001b[0m\u001b[1;33m\u001b[0m\u001b[1;33m\u001b[0m\u001b[0m\n\u001b[0m\u001b[0;32m      3\u001b[0m     \u001b[0mf\u001b[0m \u001b[1;33m=\u001b[0m \u001b[0mopen\u001b[0m\u001b[1;33m(\u001b[0m\u001b[1;34mf'C:/Users/jspit/OneDrive/Documents/Takeout/Location History/Semantic Location History/2020/2020_{month}.json'\u001b[0m\u001b[1;33m)\u001b[0m\u001b[1;33m\u001b[0m\u001b[1;33m\u001b[0m\u001b[0m\n\u001b[0;32m      4\u001b[0m     \u001b[0mdata\u001b[0m\u001b[1;33m=\u001b[0m\u001b[0mjson\u001b[0m\u001b[1;33m.\u001b[0m\u001b[0mload\u001b[0m\u001b[1;33m(\u001b[0m\u001b[0mf\u001b[0m\u001b[1;33m)\u001b[0m\u001b[1;33m\u001b[0m\u001b[1;33m\u001b[0m\u001b[0m\n\u001b[0;32m      5\u001b[0m     \u001b[0maddress_list\u001b[0m\u001b[1;33m=\u001b[0m\u001b[1;33m[\u001b[0m\u001b[1;33m]\u001b[0m\u001b[1;33m\u001b[0m\u001b[1;33m\u001b[0m\u001b[0m\n",
      "\u001b[1;31mNameError\u001b[0m: name 'months' is not defined"
     ]
    }
   ],
   "source": [
    "full_year=[]\n",
    "for month in months:\n",
    "    f = open(f'C:/Users/jspit/OneDrive/Documents/Takeout/Location History/Semantic Location History/2020/2020_{month}.json')\n",
    "    data=json.load(f)\n",
    "    address_list=[]\n",
    "    \n",
    "    for items in data.values():\n",
    "        for item in items:\n",
    "            for k in item.values():\n",
    "                try:\n",
    "                    address_list.append(k['location']['address'].split('\\n')[0])\n",
    "                except:\n",
    "                    None\n",
    "                    \n",
    "    loc_count = dict(Counter(address_list))\n",
    "    print(loc_count)\n",
    "    full_year.append({\"Month\": month, \"Locations\": loc_count})\n",
    "    try:\n",
    "        home_count.append(loc_count['ADDRESS'])\n",
    "        work_count1.append(loc_count['ADDRESS'])\n",
    "        work_count2.append(loc_count['ADDRESS'])\n",
    "    except:\n",
    "        work_count1.append(0)\n",
    "        work_count2.append(0)\n",
    "print(work_count1)\n",
    "print(loc_count)\n",
    "print(full_year)"
   ]
  },
  {
   "cell_type": "code",
   "execution_count": 8,
   "metadata": {},
   "outputs": [
    {
     "ename": "KeyError",
     "evalue": "\"None of ['Month'] are in the columns\"",
     "output_type": "error",
     "traceback": [
      "\u001b[1;31m---------------------------------------------------------------------------\u001b[0m",
      "\u001b[1;31mKeyError\u001b[0m                                  Traceback (most recent call last)",
      "\u001b[1;32m<ipython-input-8-b51f09ced081>\u001b[0m in \u001b[0;36m<module>\u001b[1;34m\u001b[0m\n\u001b[0;32m      2\u001b[0m \u001b[0mdf\u001b[0m\u001b[1;33m.\u001b[0m\u001b[0mfillna\u001b[0m\u001b[1;33m(\u001b[0m\u001b[1;36m0\u001b[0m\u001b[1;33m,\u001b[0m \u001b[0minplace\u001b[0m\u001b[1;33m=\u001b[0m\u001b[1;32mTrue\u001b[0m\u001b[1;33m)\u001b[0m\u001b[1;33m\u001b[0m\u001b[1;33m\u001b[0m\u001b[0m\n\u001b[0;32m      3\u001b[0m \u001b[0mdf\u001b[0m\u001b[1;33m.\u001b[0m\u001b[0mreset_index\u001b[0m\u001b[1;33m(\u001b[0m\u001b[1;33m)\u001b[0m\u001b[1;33m\u001b[0m\u001b[1;33m\u001b[0m\u001b[0m\n\u001b[1;32m----> 4\u001b[1;33m \u001b[0mdf\u001b[0m\u001b[1;33m.\u001b[0m\u001b[0mset_index\u001b[0m\u001b[1;33m(\u001b[0m\u001b[1;34m'Month'\u001b[0m\u001b[1;33m,\u001b[0m \u001b[0minplace\u001b[0m\u001b[1;33m=\u001b[0m\u001b[1;32mTrue\u001b[0m\u001b[1;33m)\u001b[0m\u001b[1;33m\u001b[0m\u001b[1;33m\u001b[0m\u001b[0m\n\u001b[0m\u001b[0;32m      5\u001b[0m \u001b[1;33m\u001b[0m\u001b[0m\n\u001b[0;32m      6\u001b[0m \u001b[1;32mfor\u001b[0m \u001b[0mcolumn\u001b[0m\u001b[1;33m,\u001b[0m \u001b[0mdata\u001b[0m \u001b[1;32min\u001b[0m \u001b[0mdf\u001b[0m\u001b[1;33m.\u001b[0m\u001b[0miteritems\u001b[0m\u001b[1;33m(\u001b[0m\u001b[1;33m)\u001b[0m\u001b[1;33m:\u001b[0m\u001b[1;33m\u001b[0m\u001b[1;33m\u001b[0m\u001b[0m\n",
      "\u001b[1;32m~\\Anaconda3\\Anaconda\\lib\\site-packages\\pandas\\core\\frame.py\u001b[0m in \u001b[0;36mset_index\u001b[1;34m(self, keys, drop, append, inplace, verify_integrity)\u001b[0m\n\u001b[0;32m   4725\u001b[0m \u001b[1;33m\u001b[0m\u001b[0m\n\u001b[0;32m   4726\u001b[0m         \u001b[1;32mif\u001b[0m \u001b[0mmissing\u001b[0m\u001b[1;33m:\u001b[0m\u001b[1;33m\u001b[0m\u001b[1;33m\u001b[0m\u001b[0m\n\u001b[1;32m-> 4727\u001b[1;33m             \u001b[1;32mraise\u001b[0m \u001b[0mKeyError\u001b[0m\u001b[1;33m(\u001b[0m\u001b[1;34mf\"None of {missing} are in the columns\"\u001b[0m\u001b[1;33m)\u001b[0m\u001b[1;33m\u001b[0m\u001b[1;33m\u001b[0m\u001b[0m\n\u001b[0m\u001b[0;32m   4728\u001b[0m \u001b[1;33m\u001b[0m\u001b[0m\n\u001b[0;32m   4729\u001b[0m         \u001b[1;32mif\u001b[0m \u001b[0minplace\u001b[0m\u001b[1;33m:\u001b[0m\u001b[1;33m\u001b[0m\u001b[1;33m\u001b[0m\u001b[0m\n",
      "\u001b[1;31mKeyError\u001b[0m: \"None of ['Month'] are in the columns\""
     ]
    }
   ],
   "source": [
    "df = pd.json_normalize(full_year)\n",
    "df.fillna(0, inplace=True)\n",
    "df.reset_index()\n",
    "df.set_index('Month', inplace=True)\n",
    "\n",
    "for column, data in df.iteritems():\n",
    "    if not any(i > 2 for i in data.values):\n",
    "        del df[column]\n",
    "df.astype(int)\n",
    "for column, data in df.iteritems():\n",
    "    df.rename({column: column.strip('Locations.')}, inplace=True)\n",
    "df\n",
    "pd.set_option('display.max_columns',25)\n",
    "df"
   ]
  },
  {
   "cell_type": "code",
   "execution_count": null,
   "metadata": {},
   "outputs": [],
   "source": [
    "plt.bar(months, df_places['Vons'], label='Vons')\n",
    "plt.bar(months, df_places['Friend House'], label=\"friend's house\")\n",
    "plt.bar(months, df_places['Trader Joes'], label = \"Trader Joes\")\n",
    "plt.bar(months, df_places['Hiking trail'], label='Hiking Trail')\n",
    "plt.grid(True)\n",
    "plt.xticks(months, rotation=30)\n",
    "plt.title('Frequently Visited Places - 2020')\n",
    "plt.ylabel('Frequency Count')\n",
    "plt.legend()"
   ]
  },
  {
   "cell_type": "code",
   "execution_count": null,
   "metadata": {},
   "outputs": [],
   "source": [
    "df = pd.json_normalize(full_year)\n",
    "\n",
    "dfx = df.loc[:,['Month', 'Locations.ADDRESS', 'Locations.ADDRESS','Locations.ADDRESS','Locations.ADDRESS']]\n",
    "dfx.rename(columns={'Locations.ADDRESS':'Home','Locations.ADDRESS':'Work Location 1a', 'Locations.ADDRESS':'Work Location 1b',\n",
    "                    'Locations.ADDRESS': 'Work Location 2' }, inplace=True)\n",
    "\n",
    "dfx = dfx.fillna(0)\n",
    "dfx = dfx.astype({'Work Location 1a': 'int64', 'Work Location 1b': 'int64'})\n",
    "\n",
    "dfx['Work Location 1'] = dfx['Work Location 1a'] + dfx['Work Location 1b']\n",
    "dfx"
   ]
  },
  {
   "cell_type": "code",
   "execution_count": null,
   "metadata": {},
   "outputs": [],
   "source": [
    "dfx1 = pd.DataFrame(dfx)\n",
    "\n",
    "del dfx1['Work Location 1a']\n",
    "del dfx1['Work Location 1b']"
   ]
  },
  {
   "cell_type": "code",
   "execution_count": null,
   "metadata": {},
   "outputs": [],
   "source": [
    "dfx1\n",
    "dfx2 = dfx1[['Month', 'Work Location 1', 'Work Location 2']]\n",
    "dfx2"
   ]
  },
  {
   "cell_type": "code",
   "execution_count": null,
   "metadata": {},
   "outputs": [],
   "source": [
    "plt.plot(months,home_count, label='Home')\n",
    "plt.plot(months,dfx['Work Location 1'], label='Work Location 1')\n",
    "plt.plot(months,dfx['Work Location 2'], label='Work Location 2')\n",
    "plt.xlabel('Month')\n",
    "plt.xticks(months, rotation=30)\n",
    "plt.ylabel('Frequency of Arrivals')\n",
    "plt.title('Quantity of Times Arriving Home and Work Per Month - 2020')\n",
    "plt.legend(bbox_to_anchor=(1, 1))\n",
    "plt.grid(True)\n",
    "plt.rcParams['figure.figsize'] = (9,5)\n",
    "plt.show()\n",
    "plt.tight_layout()"
   ]
  },
  {
   "cell_type": "code",
   "execution_count": null,
   "metadata": {},
   "outputs": [],
   "source": [
    "from vincenty import vincenty\n",
    "dist_list=[]\n",
    "dist_month = {}\n",
    "for month in months:\n",
    "    f = open(f'C:/Users/jspit/OneDrive/Documents/Takeout/Location History/Semantic Location History/2020/2020_{month}.json')\n",
    "    data=json.load(f)\n",
    "    for items in data['timelineObjects']:\n",
    "        try:\n",
    "            item = items['activitySegment']\n",
    "            start_coord = (int(item['startLocation']['latitudeE7'])/1e7, int(item['startLocation']['longitudeE7'])/1e7)\n",
    "            end_coord = (int(item['endLocation']['latitudeE7'])/1e7, int(item['endLocation']['longitudeE7'])/1e7)\n",
    "            distance = vincenty(start_coord, end_coord, miles=True)\n",
    "            dist_month = {\"Month\": month, \"Distance\":distance}\n",
    "        except:\n",
    "            None\n",
    "        dist_list.append(dist_month)\n",
    "\n",
    "df2 = pd.DataFrame(dist_list)\n",
    "\n",
    "df2_grp = df2.groupby(['Month'])\n",
    "dist_totals = df2_grp['Distance'].sum()\n",
    "df3 = pd.DataFrame(dist_totals)\n",
    "df3 = df3.rename(columns = {'Distance': 'Monthly Distance Sum'})\n",
    "df3"
   ]
  },
  {
   "cell_type": "code",
   "execution_count": null,
   "metadata": {},
   "outputs": [],
   "source": [
    "months = ['JANUARY', 'FEBRUARY', 'MARCH', 'APRIL', 'MAY', 'JUNE', 'JULY', 'AUGUST',\n",
    "          'SEPTEMBER', 'OCTOBER', 'NOVEMBER', 'DECEMBER']\n",
    "val= []\n",
    "for index, row in df3.iterrows():\n",
    "    val.append(row['Monthly Distance Sum'])\n",
    "\n",
    "dfsort = pd.DataFrame({'Month': [i for i in months], 'num':[0,1,2,3,4,5,6,7,8,9,10,11]})\n",
    "df4 = pd.merge(df3, dfsort, on='Month')\n",
    "df4=df4.sort_values('num')\n",
    "plt1 = df4.plot(kind='bar',x='Month', y = 'Monthly Distance Sum', ylabel='Monthly Distance (mi)', title ='Monthly Distance Totals', figsize=(8,8))\n",
    "plt1.get_legend().remove()\n"
   ]
  },
  {
   "cell_type": "code",
   "execution_count": null,
   "metadata": {},
   "outputs": [],
   "source": [
    "newlist=[]\n",
    "for month in months:\n",
    "    f = open(f'C:/Users/jspit/OneDrive/Documents/Takeout/Location History/Semantic Location History/2020/2020_{month}.json')\n",
    "    data=json.load(f)\n",
    "    for items in data['timelineObjects']:\n",
    "        try:\n",
    "            item = items['activitySegment']\n",
    "            start_coord = (int(item['startLocation']['latitudeE7'])/1e7, int(item['startLocation']['longitudeE7'])/1e7)\n",
    "            end_coord = (int(item['endLocation']['latitudeE7'])/1e7, int(item['endLocation']['longitudeE7'])/1e7)\n",
    "            distance = vincenty(start_coord, end_coord, miles=True)\n",
    "            travtype = item['activityType']\n",
    "            dist_month = {\"Month\": month, \"Distance\":distance, \"Activity Type\": travtype}\n",
    "        except:\n",
    "            None\n",
    "        newlist.append(dist_month)\n",
    "\n",
    "df5 = pd.DataFrame(newlist)\n",
    "df5\n",
    "df5_grp = df5.groupby(['Month', 'Activity Type'])\n",
    "act_totals = df5_grp['Distance'].sum()\n",
    "act_totals\n",
    "df6 = pd.DataFrame(act_totals)\n",
    "\n",
    "df5_grp2 = df6.groupby(['Month', 'Activity Type'])\n",
    "activity_totals = df5_grp2['Distance'].sum()\n",
    "\n",
    "df5 = pd.DataFrame(activity_totals)\n",
    "df5"
   ]
  },
  {
   "cell_type": "code",
   "execution_count": null,
   "metadata": {},
   "outputs": [],
   "source": [
    "df5_grp2 = df5.groupby(['Activity Type'])\n",
    "activity_totals = df5_grp2['Distance'].sum()\n",
    "df5 = pd.DataFrame(activity_totals)\n",
    "df5\n",
    "df5.reset_index(inplace=True)\n",
    "df5.sort_values(by='Distance', ascending=False)"
   ]
  },
  {
   "cell_type": "code",
   "execution_count": null,
   "metadata": {},
   "outputs": [],
   "source": [
    "labels= ['', 'FLYING', '', 'IN_PASSENGER_VEHICLE', '', '', 'SKIING', 'WALKING']\n",
    "x = [i for i in df5['Distance']]\n",
    "explode=[0, 0.5, 0.1,0.4, 0.1, 0.1, 0.5, 0.7]\n",
    "y = plt.pie(x, labels=labels, autopct='%1.1f%%', radius=2, explode=explode)"
   ]
  },
  {
   "cell_type": "code",
   "execution_count": null,
   "metadata": {},
   "outputs": [],
   "source": []
  }
 ],
 "metadata": {
  "kernelspec": {
   "display_name": "Python 3",
   "language": "python",
   "name": "python3"
  },
  "language_info": {
   "codemirror_mode": {
    "name": "ipython",
    "version": 3
   },
   "file_extension": ".py",
   "mimetype": "text/x-python",
   "name": "python",
   "nbconvert_exporter": "python",
   "pygments_lexer": "ipython3",
   "version": "3.8.8"
  }
 },
 "nbformat": 4,
 "nbformat_minor": 4
}
